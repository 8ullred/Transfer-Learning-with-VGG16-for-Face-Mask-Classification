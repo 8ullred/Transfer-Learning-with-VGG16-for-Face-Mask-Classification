{
  "nbformat": 4,
  "nbformat_minor": 0,
  "metadata": {
    "colab": {
      "provenance": [],
      "gpuType": "T4"
    },
    "kernelspec": {
      "name": "python3",
      "display_name": "Python 3"
    },
    "language_info": {
      "name": "python"
    },
    "accelerator": "GPU"
  },
  "cells": [
    {
      "cell_type": "code",
      "execution_count": null,
      "metadata": {
        "id": "x5iDCOPKty5E"
      },
      "outputs": [],
      "source": [
        "import tensorflow as tf\n",
        "import numpy as np\n",
        "import pandas as pd\n",
        "import matplotlib.pyplot as plt\n",
        "import PIL\n",
        "import os\n",
        "\n",
        "from tensorflow.keras.applications import ResNet50\n",
        "from tensorflow.keras.models import Sequential\n",
        "from tensorflow.keras.layers import Dense, Flatten, Dropout, MaxPooling2D, Activation\n",
        "from tensorflow.keras.applications.resnet50 import preprocess_input\n",
        "from tensorflow.keras.optimizers import Adam\n",
        "\n",
        "from keras.callbacks import ModelCheckpoint\n",
        "from keras.preprocessing.image import ImageDataGenerator\n",
        "from keras.models import Model\n"
      ]
    },
    {
      "cell_type": "code",
      "source": [
        "from google.colab import drive\n",
        "drive.mount('/content/drive')"
      ],
      "metadata": {
        "colab": {
          "base_uri": "https://localhost:8080/"
        },
        "id": "lEoGlrKnzZxo",
        "outputId": "689b4b2a-21d7-4f51-c995-f71f0dc0d3cc"
      },
      "execution_count": null,
      "outputs": [
        {
          "output_type": "stream",
          "name": "stdout",
          "text": [
            "Mounted at /content/drive\n"
          ]
        }
      ]
    },
    {
      "cell_type": "code",
      "source": [
        "!ls \"/content/drive/My Drive/Research/Data\""
      ],
      "metadata": {
        "colab": {
          "base_uri": "https://localhost:8080/"
        },
        "id": "plT6MIE75Kpo",
        "outputId": "6ff54173-b385-4693-9623-0924b43d9e07"
      },
      "execution_count": null,
      "outputs": [
        {
          "output_type": "stream",
          "name": "stdout",
          "text": [
            "Classifier  First_CNN_Training.ipynb  Test  Train  Untitled0.ipynb  Valid\n"
          ]
        }
      ]
    },
    {
      "cell_type": "code",
      "source": [
        "device_name = tf.test.gpu_device_name()\n",
        "if device_name != '/device:GPU:0':\n",
        "  raise SystemError(\"GPU device not found\")\n",
        "print(\"Found GPU at: {}\".format(device_name))"
      ],
      "metadata": {
        "colab": {
          "base_uri": "https://localhost:8080/"
        },
        "id": "oRZuA_lE_dVb",
        "outputId": "9bfa519f-4ad9-4fcc-db60-cd6da8fae12f"
      },
      "execution_count": null,
      "outputs": [
        {
          "output_type": "stream",
          "name": "stdout",
          "text": [
            "Found GPU at: /device:GPU:0\n"
          ]
        }
      ]
    },
    {
      "cell_type": "code",
      "source": [
        "img_height, img_width = 224, 224\n",
        "batch_size = 5\n",
        "classify_names = ['correct_masked', 'incorrect_masked', 'no_mask']"
      ],
      "metadata": {
        "id": "Yl6nLOHjA9Ov"
      },
      "execution_count": null,
      "outputs": []
    },
    {
      "cell_type": "code",
      "source": [
        "image_path = '/content/drive/My Drive/Research/Data'\n",
        "model_path = '/content/drive/My Drive/Ronald/models/'"
      ],
      "metadata": {
        "id": "nYR1o1bQBJdf"
      },
      "execution_count": null,
      "outputs": []
    },
    {
      "cell_type": "code",
      "source": [
        "train_ds = tf.keras.preprocessing.image_dataset_from_directory(\n",
        "    image_path,\n",
        "    labels='inferred',\n",
        "    label_mode='int',\n",
        "    # class_names=tf.train,\n",
        "    validation_split=0.3,\n",
        "    subset=\"training\",\n",
        "    seed=123,\n",
        "    image_size=(img_height, img_width),\n",
        "    batch_size=batch_size\n",
        ")"
      ],
      "metadata": {
        "id": "XilUfjmYBpZK",
        "colab": {
          "base_uri": "https://localhost:8080/"
        },
        "outputId": "aade1ee8-fdf9-4678-93f8-5ac9e596e419"
      },
      "execution_count": null,
      "outputs": [
        {
          "output_type": "stream",
          "name": "stdout",
          "text": [
            "Found 9431 files belonging to 4 classes.\n",
            "Using 6602 files for training.\n"
          ]
        }
      ]
    },
    {
      "cell_type": "code",
      "source": [
        "val_ds = tf.keras.preprocessing.image_dataset_from_directory(\n",
        "    image_path,\n",
        "    labels='inferred',\n",
        "    label_mode='int',\n",
        "    # class_names=classify_names,\n",
        "    validation_split=0.2,\n",
        "    subset=\"validation\",\n",
        "    seed=123,\n",
        "    image_size=(img_height, img_width),\n",
        "    batch_size=batch_size\n",
        ")"
      ],
      "metadata": {
        "id": "1lhSi12HCVdT",
        "colab": {
          "base_uri": "https://localhost:8080/"
        },
        "outputId": "3e637077-a828-4ff2-cc6a-83c6bc3bc689"
      },
      "execution_count": null,
      "outputs": [
        {
          "output_type": "stream",
          "name": "stdout",
          "text": [
            "Found 9431 files belonging to 4 classes.\n",
            "Using 1886 files for validation.\n"
          ]
        }
      ]
    },
    {
      "cell_type": "code",
      "source": [
        "from tensorflow.keras.callbacks import EarlyStopping"
      ],
      "metadata": {
        "id": "QbRzd0TNgGmG"
      },
      "execution_count": null,
      "outputs": []
    },
    {
      "cell_type": "code",
      "source": [
        "from keras.layers.serialization import activation\n",
        "def get_model():\n",
        "  resnet_model = Sequential()\n",
        "\n",
        "  pretrained_model = tf.keras.applications.VGG16(include_top = False,\n",
        "                                                    input_shape = (224, 224, 3),\n",
        "                                                    pooling = 'avg',classes = 3,\n",
        "                                                    weights='imagenet')\n",
        "  for layer in pretrained_model.layers:\n",
        "    layer.trainable=False\n",
        "\n",
        "  resnet_model.add(pretrained_model)\n",
        "  resnet_model.add(Flatten())\n",
        "  resnet_model.add(Dense(512, activation = 'relu'))\n",
        "  resnet_model.add(Dropout(0.3))\n",
        "  resnet_model.add(Dense(3, activation = 'softmax'))\n",
        "  resnet_model.compile(optimizer=Adam(learning_rate = 0.001),\n",
        "                       loss='sparse_categorical_crossentropy',\n",
        "                       metrics = ['accuracy'])\n",
        "\n",
        "  resnet_model.summary()\n",
        "\n",
        "  return resnet_model\n",
        "\n",
        "\"\"\"\n",
        "from tensorflow.keras.models import Sequential\n",
        "def get_model():\n",
        "  VGG_Model = Sequential()\n",
        "  pretrained_model = tf.keras.applications.ResNet50(include_top=False, input_shape=(224, 224, 3), pooling='avg', classes=3, weights='imagenet')\n",
        "  for layer in pretrained_model.layers:\n",
        "    layer.trainable = False\n",
        "  VGG_Model.add(pretrained_model)\n",
        "  VGG_Model.add(Flatten())\n",
        "  VGG_Model.add(Dense(512, activation='relu'))\n",
        "  VGG_Model.add(Dropout(0.3))\n",
        "  VGG_Model.add(Dense(3, activation='softmax'))\n",
        "  VGG_Model.compile(optimizer=\"adam\", loss='categorical_crossentropy', metrics=['accuracy'])\n",
        "  VGG_Model.summary()\n",
        "  return VGG_Model\n",
        "\"\"\""
      ],
      "metadata": {
        "id": "5WbZTC3LgQQI",
        "colab": {
          "base_uri": "https://localhost:8080/",
          "height": 70
        },
        "outputId": "676b9c98-a3be-45c2-b2ab-1eae882040c2"
      },
      "execution_count": null,
      "outputs": [
        {
          "output_type": "execute_result",
          "data": {
            "text/plain": [
              "'\\nfrom tensorflow.keras.models import Sequential\\ndef get_model():\\n  VGG_Model = Sequential()\\n  pretrained_model = tf.keras.applications.ResNet50(include_top=False, input_shape=(224, 224, 3), pooling=\\'avg\\', classes=3, weights=\\'imagenet\\')\\n  for layer in pretrained_model.layers:\\n    layer.trainable = False\\n  VGG_Model.add(pretrained_model)\\n  VGG_Model.add(Flatten())\\n  VGG_Model.add(Dense(512, activation=\\'relu\\'))\\n  VGG_Model.add(Dropout(0.3))\\n  VGG_Model.add(Dense(3, activation=\\'softmax\\'))\\n  VGG_Model.compile(optimizer=\"adam\", loss=\\'categorical_crossentropy\\', metrics=[\\'accuracy\\'])\\n  VGG_Model.summary()\\n  return VGG_Model\\n'"
            ],
            "application/vnd.google.colaboratory.intrinsic+json": {
              "type": "string"
            }
          },
          "metadata": {},
          "execution_count": 10
        }
      ]
    },
    {
      "cell_type": "code",
      "source": [
        "from keras.api._v2.keras import callbacks\n",
        "\n",
        "from IPython.core import history\n",
        "\n",
        "\n",
        "with tf.device('/device:GPU:0'):\n",
        "  resnet_model = get_model()\n",
        "\n",
        "  history = resnet_model.fit(train_ds, validation_data=val_ds, epochs=10, callbacks=EarlyStopping(monitor='val_loss', patience=30))\n",
        "\n",
        "from matplotlib import pyplot as plt\n",
        "plt.plot(history.history['loss'], 'r', label = 'training loss')\n",
        "plt.plot(history.history['val_loss'], label = 'validation loss')\n",
        "\n",
        "plt.title('Model Loss')\n",
        "plt.ylabel('Loss')\n",
        "\n",
        "plt.xlabel('Epochs')\n",
        "plt.legend()\n",
        "plt.show()\n",
        "\n",
        "plt.plot(history.history['accuracy'], 'r', label = \"training accuracy\")\n",
        "plt.plot(history.history['val_accuracy'], label = \"validation accuracy\")\n",
        "\n",
        "plt.title(\"Model Accuracy\")\n",
        "plt.ylabel(\"Accuracy\")\n",
        "plt.xlabel(\"Epochs\")\n",
        "plt.legend()\n",
        "plt.show()\n",
        "\n",
        "resnet_model.save(model_path+'ResNet_3_categories.h5')"
      ],
      "metadata": {
        "id": "LmRH53jem1hp",
        "colab": {
          "base_uri": "https://localhost:8080/"
        },
        "outputId": "f6d011db-2335-455c-d62c-ae92d8cd1dbf"
      },
      "execution_count": null,
      "outputs": [
        {
          "metadata": {
            "tags": null
          },
          "name": "stdout",
          "output_type": "stream",
          "text": [
            "Downloading data from https://storage.googleapis.com/tensorflow/keras-applications/vgg16/vgg16_weights_tf_dim_ordering_tf_kernels_notop.h5\n",
            "58889256/58889256 [==============================] - 1s 0us/step\n",
            "Model: \"sequential\"\n",
            "_________________________________________________________________\n",
            " Layer (type)                Output Shape              Param #   \n",
            "=================================================================\n",
            " vgg16 (Functional)          (None, 512)               14714688  \n",
            "                                                                 \n",
            " flatten (Flatten)           (None, 512)               0         \n",
            "                                                                 \n",
            " dense (Dense)               (None, 512)               262656    \n",
            "                                                                 \n",
            " dropout (Dropout)           (None, 512)               0         \n",
            "                                                                 \n",
            " dense_1 (Dense)             (None, 3)                 1539      \n",
            "                                                                 \n",
            "=================================================================\n",
            "Total params: 14,978,883\n",
            "Trainable params: 264,195\n",
            "Non-trainable params: 14,714,688\n",
            "_________________________________________________________________\n",
            "Epoch 1/10\n",
            " 333/1321 [======>.......................] - ETA: 7:57 - loss: nan - accuracy: 0.8138"
          ]
        }
      ]
    },
    {
      "cell_type": "code",
      "source": [
        "from matplotlib import pyplot as plt\n",
        "plt.plot(history.history['loss'], 'r', label = 'training loss')\n",
        "plt.plot(history.history['val_loss'], label = 'validation loss')\n",
        "\n",
        "plt.title('Model Loss')\n",
        "plt.ylabel('Loss')\n",
        "\n",
        "plt.xlabel('Epochs')\n",
        "plt.legend()\n",
        "plt.show()"
      ],
      "metadata": {
        "id": "2dSk1Y2WBFUE"
      },
      "execution_count": null,
      "outputs": []
    },
    {
      "cell_type": "code",
      "source": [
        "plt.plot(history.history['accuracy'], 'r', label = \"training accuracy\")\n",
        "plt.plot(history.history['val_accuracy'], label = \"validation accuracy\")\n",
        "\n",
        "plt.title(\"Model Accuracy\")\n",
        "plt.ylabel(\"Accuracy\")\n",
        "plt.xlabel(\"Epochs\")\n",
        "plt.legend()\n",
        "plt.show()"
      ],
      "metadata": {
        "id": "Tf1fsNziDgjz"
      },
      "execution_count": null,
      "outputs": []
    },
    {
      "cell_type": "code",
      "source": [
        "resnet_model.save(model_path+'ResNet_3_categories.h5')"
      ],
      "metadata": {
        "id": "zVpbEuneECF8"
      },
      "execution_count": null,
      "outputs": []
    },
    {
      "cell_type": "markdown",
      "source": [
        "Load the Saved Trained Model and use it for  testing"
      ],
      "metadata": {
        "id": "Crt-vBwGEZ0H"
      }
    },
    {
      "cell_type": "code",
      "source": [
        "from tensorflow.keras.applications import ResNet50\n",
        "from tensorflow.keras.models import Sequential\n",
        "from tensorflow.keras.layers import Dense, Flatten, Dropout, MaxPooling2D, Activation\n",
        "from tensorflow.keras.applications.resnet50 import preprocess_input\n",
        "from tensorflow.keras.optimizers import Adam\n",
        "\n",
        "from keras.callbacks import ModelCheckpoint\n",
        "from keras.preprocessing.image import ImageDataGenerator\n",
        "from keras.models import Model\n",
        "\n",
        "import tensorflow as tf\n",
        "import numpy as np\n",
        "import pandas as pd\n",
        "import matplotlib.pyplot as plt\n",
        "import PIL\n",
        "import os"
      ],
      "metadata": {
        "id": "7q5V92Z9EWUs"
      },
      "execution_count": null,
      "outputs": []
    },
    {
      "cell_type": "code",
      "source": [
        "from google.colab import drive\n",
        "drive.mount('/content/drive')"
      ],
      "metadata": {
        "id": "ujperxHOEr9D"
      },
      "execution_count": null,
      "outputs": []
    },
    {
      "cell_type": "code",
      "source": [
        "from tensorflow.python.platform.test import test_src_dir_path\n",
        "test_path = '/content/drive/My Drive/Research/Data/Test/'\n",
        "test_model_path = '/content/drive/My Drive/Ronald/models/'\n"
      ],
      "metadata": {
        "id": "vd2UXHF2Extq"
      },
      "execution_count": null,
      "outputs": []
    },
    {
      "cell_type": "code",
      "source": [
        "from keras.models import load_model\n",
        "from keras.layers import Dense, Flatten, Dropout, AveragePooling2D, Conv2D, Input\n",
        "from keras.preprocessing import image\n",
        "\n",
        "saved_model = load_model(test_model_path+'ResNet_3_categories.h5')"
      ],
      "metadata": {
        "id": "bVZn7RfhFdfR"
      },
      "execution_count": null,
      "outputs": []
    },
    {
      "cell_type": "code",
      "source": [
        "import numpy as np\n",
        "y_pred = [] #store predicted labels\n",
        "y_true = [] #store true labels\n",
        "\n",
        "for image_batch, label_batch in val_ds:\n",
        "  y_true.append(label_batch)\n",
        "  preds = saved_model.predict(image_batch)\n",
        "  y_pred.append(np.argmax(preds, axis = -1))\n"
      ],
      "metadata": {
        "id": "N1AybDopEt2_"
      },
      "execution_count": null,
      "outputs": []
    },
    {
      "cell_type": "code",
      "source": [
        "import tensorflow\n",
        "true_categories = tensorflow.concat([item for item in y_true], axis = 0)\n",
        "predicted_categories = tensorflow.concat([item for item in y_pred], axis = 0)"
      ],
      "metadata": {
        "id": "iV_9GskL4q-M"
      },
      "execution_count": null,
      "outputs": []
    },
    {
      "cell_type": "code",
      "source": [
        "from sklearn.metrics import confusion_matrix\n",
        "\n",
        "cnf_matrix = confusion_matrix(true_categories, predicted_categories, normalize='pred')"
      ],
      "metadata": {
        "id": "LUnzOP5l5N_7"
      },
      "execution_count": null,
      "outputs": []
    },
    {
      "cell_type": "code",
      "source": [
        "import matplotlib.pyplot as plt\n",
        "from sklearn.metrics import ConfusionMatrixDisplay\n",
        "\n",
        "disp = ConfusionMatrixDisplay(confusion_matrix=cnf_matrix,\n",
        "                              display_labels=classify_names)\n",
        "\n",
        "disp = disp.plot(cmap = 'Blues', xticks_rotation=45)\n",
        "\n",
        "plt.show()\n"
      ],
      "metadata": {
        "id": "At44I4c45QTn"
      },
      "execution_count": null,
      "outputs": []
    },
    {
      "cell_type": "code",
      "source": [],
      "metadata": {
        "id": "GUxeGqrV5Sgy"
      },
      "execution_count": null,
      "outputs": []
    }
  ]
}